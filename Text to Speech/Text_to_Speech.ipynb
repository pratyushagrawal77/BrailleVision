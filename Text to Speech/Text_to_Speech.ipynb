{
  "cells": [
    {
      "cell_type": "code",
      "execution_count": 3,
      "id": "629fd1b8-cab8-4e16-9efb-731b7f1ceb49",
      "metadata": {
        "colab": {
          "base_uri": "https://localhost:8080/"
        },
        "id": "629fd1b8-cab8-4e16-9efb-731b7f1ceb49",
        "outputId": "f10a4050-bc45-488d-834d-7929ac8b7a23"
      },
      "outputs": [
        {
          "name": "stdout",
          "output_type": "stream",
          "text": [
            "Collecting gtts\n",
            "  Downloading gTTS-2.5.4-py3-none-any.whl.metadata (4.1 kB)\n",
            "Collecting pydub\n",
            "  Downloading pydub-0.25.1-py2.py3-none-any.whl.metadata (1.4 kB)\n",
            "Requirement already satisfied: requests<3,>=2.27 in /usr/local/lib/python3.10/dist-packages (from gtts) (2.32.3)\n",
            "Requirement already satisfied: click<8.2,>=7.1 in /usr/local/lib/python3.10/dist-packages (from gtts) (8.1.7)\n",
            "Requirement already satisfied: charset-normalizer<4,>=2 in /usr/local/lib/python3.10/dist-packages (from requests<3,>=2.27->gtts) (3.4.0)\n",
            "Requirement already satisfied: idna<4,>=2.5 in /usr/local/lib/python3.10/dist-packages (from requests<3,>=2.27->gtts) (3.10)\n",
            "Requirement already satisfied: urllib3<3,>=1.21.1 in /usr/local/lib/python3.10/dist-packages (from requests<3,>=2.27->gtts) (2.2.3)\n",
            "Requirement already satisfied: certifi>=2017.4.17 in /usr/local/lib/python3.10/dist-packages (from requests<3,>=2.27->gtts) (2024.8.30)\n",
            "Downloading gTTS-2.5.4-py3-none-any.whl (29 kB)\n",
            "Downloading pydub-0.25.1-py2.py3-none-any.whl (32 kB)\n",
            "Installing collected packages: pydub, gtts\n",
            "Successfully installed gtts-2.5.4 pydub-0.25.1\n",
            "Reading package lists... Done\n",
            "Building dependency tree... Done\n",
            "Reading state information... Done\n",
            "ffmpeg is already the newest version (7:4.4.2-0ubuntu0.22.04.1).\n",
            "0 upgraded, 0 newly installed, 0 to remove and 49 not upgraded.\n",
            "Enter the text you want to convert to speech: Hello I am testing Braille Charecters\n"
          ]
        }
      ],
      "source": [
        "# Install the required packages\n",
        "!pip install gtts pydub\n",
        "!apt-get install -y ffmpeg\n",
        "\n",
        "from gtts import gTTS\n",
        "from pydub import AudioSegment\n",
        "from pydub.playback import play\n",
        "import os\n",
        "\n",
        "def text_to_speech(text, language='en', slow=False):\n",
        "    \"\"\"\n",
        "    Convert text to speech and play it.\n",
        "\n",
        "    Args:\n",
        "    text (str): The text to be converted to speech.\n",
        "    language (str): The language of the text. Defaults to 'en' (English).\n",
        "    slow (bool): Whether to generate the audio at a slower speed. Defaults to False.\n",
        "\n",
        "    Returns:\n",
        "    None\n",
        "    \"\"\"\n",
        "    # Passing the text and language to the engine\n",
        "    speech = gTTS(text=text, lang=language, slow=slow)\n",
        "\n",
        "    # Saving the converted audio as a temporary file\n",
        "    temp_file = \"temp_audio.mp3\"\n",
        "    speech.save(temp_file)\n",
        "\n",
        "    # Loading the audio file\n",
        "    audio = AudioSegment.from_mp3(temp_file)\n",
        "\n",
        "    # Playing the audio\n",
        "    play(audio)\n",
        "\n",
        "    # Cleanup - delete the temporary file\n",
        "    os.remove(temp_file)\n",
        "\n",
        "# Example usage:\n",
        "text = input(\"Enter the text you want to convert to speech: \")\n",
        "text_to_speech(text)\n"
      ]
    },
    {
      "cell_type": "code",
      "source": [],
      "metadata": {
        "id": "4Fy3d95LMg6e"
      },
      "id": "4Fy3d95LMg6e",
      "execution_count": null,
      "outputs": []
    }
  ],
  "metadata": {
    "kernelspec": {
      "display_name": "Python 3 (ipykernel)",
      "language": "python",
      "name": "python3"
    },
    "language_info": {
      "codemirror_mode": {
        "name": "ipython",
        "version": 3
      },
      "file_extension": ".py",
      "mimetype": "text/x-python",
      "name": "python",
      "nbconvert_exporter": "python",
      "pygments_lexer": "ipython3",
      "version": "3.11.7"
    },
    "colab": {
      "provenance": []
    }
  },
  "nbformat": 4,
  "nbformat_minor": 5
}